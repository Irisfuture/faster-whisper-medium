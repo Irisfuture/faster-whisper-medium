{
 "cells": [
  {
   "cell_type": "markdown",
   "metadata": {},
   "source": [
    "[使用的medium需要的一些模型文件和配置信息在modelscope上。](https://www.modelscope.cn/models/pengzhendong/faster-whisper-medium)"
   ]
  },
  {
   "cell_type": "markdown",
   "metadata": {},
   "source": [
    "# 这个版本来源于modelscope，开发者将openai/whisper-medium模型转换为CTranslate2兼容的格式\n",
    "# 转换后的模型可以在CTranslate2环境中使用，也可以应用于基于CTranslate2的项目，如faster-whisper。"
   ]
  },
  {
   "cell_type": "code",
   "execution_count": 24,
   "metadata": {},
   "outputs": [
    {
     "data": {
      "text/plain": [
       "'\\n开发者使用ct2-transformers-converter工具将openai/whisper-medium模型转换为CTranslate2兼容的格式,他是这么做的：\\nct2-transformers-converter --model openai/whisper-medium --output_dir faster-whisper-medium     --copy_files tokenizer.json --quantization float16\\n'"
      ]
     },
     "execution_count": 24,
     "metadata": {},
     "output_type": "execute_result"
    }
   ],
   "source": [
    "'''\n",
    "开发者使用ct2-transformers-converter工具将openai/whisper-medium模型转换为CTranslate2兼容的格式,他是这么做的：\n",
    "ct2-transformers-converter --model openai/whisper-medium --output_dir faster-whisper-medium \\\n",
    "    --copy_files tokenizer.json --quantization float16\n",
    "\n",
    "这个过程主要是为了使模型能够与CTranslate2推理引擎兼容,并可能应用一些优化以提高性能或减少资源占用。\n",
    "'''"
   ]
  },
  {
   "cell_type": "code",
   "execution_count": 11,
   "metadata": {},
   "outputs": [],
   "source": [
    "!export PYTHONPATH=/data/miniconda/envs/torch/lib/python3.9.9/site-packages:$PYTHONPATH"
   ]
  },
  {
   "cell_type": "code",
   "execution_count": 12,
   "metadata": {},
   "outputs": [
    {
     "name": "stdout",
     "output_type": "stream",
     "text": [
      "\u001b[33mWARNING: Running pip as the 'root' user can result in broken permissions and conflicting behaviour with the system package manager, possibly rendering your system unusable.It is recommended to use a virtual environment instead: https://pip.pypa.io/warnings/venv. Use the --root-user-action option if you know what you are doing and want to suppress this warning.\u001b[0m\u001b[33m\n",
      "\u001b[0mCollecting torch\n",
      "  Using cached torch-2.5.1-cp311-cp311-manylinux1_x86_64.whl.metadata (28 kB)\n",
      "Requirement already satisfied: filelock in /data/miniconda/envs/python=3.9.9/lib/python3.11/site-packages (from torch) (3.16.1)\n",
      "Requirement already satisfied: typing-extensions>=4.8.0 in /data/miniconda/envs/python=3.9.9/lib/python3.11/site-packages (from torch) (4.12.2)\n",
      "Requirement already satisfied: networkx in /data/miniconda/envs/python=3.9.9/lib/python3.11/site-packages (from torch) (3.4.2)\n",
      "Requirement already satisfied: jinja2 in /data/miniconda/envs/python=3.9.9/lib/python3.11/site-packages (from torch) (3.1.5)\n",
      "Requirement already satisfied: fsspec in /data/miniconda/envs/python=3.9.9/lib/python3.11/site-packages (from torch) (2024.12.0)\n",
      "Requirement already satisfied: nvidia-cuda-nvrtc-cu12==12.4.127 in /data/miniconda/envs/python=3.9.9/lib/python3.11/site-packages (from torch) (12.4.127)\n",
      "Requirement already satisfied: nvidia-cuda-runtime-cu12==12.4.127 in /data/miniconda/envs/python=3.9.9/lib/python3.11/site-packages (from torch) (12.4.127)\n",
      "Requirement already satisfied: nvidia-cuda-cupti-cu12==12.4.127 in /data/miniconda/envs/python=3.9.9/lib/python3.11/site-packages (from torch) (12.4.127)\n",
      "Requirement already satisfied: nvidia-cudnn-cu12==9.1.0.70 in /data/miniconda/envs/python=3.9.9/lib/python3.11/site-packages (from torch) (9.1.0.70)\n",
      "Requirement already satisfied: nvidia-cublas-cu12==12.4.5.8 in /data/miniconda/envs/python=3.9.9/lib/python3.11/site-packages (from torch) (12.4.5.8)\n",
      "Requirement already satisfied: nvidia-cufft-cu12==11.2.1.3 in /data/miniconda/envs/python=3.9.9/lib/python3.11/site-packages (from torch) (11.2.1.3)\n",
      "Requirement already satisfied: nvidia-curand-cu12==10.3.5.147 in /data/miniconda/envs/python=3.9.9/lib/python3.11/site-packages (from torch) (10.3.5.147)\n",
      "Requirement already satisfied: nvidia-cusolver-cu12==11.6.1.9 in /data/miniconda/envs/python=3.9.9/lib/python3.11/site-packages (from torch) (11.6.1.9)\n",
      "Requirement already satisfied: nvidia-cusparse-cu12==12.3.1.170 in /data/miniconda/envs/python=3.9.9/lib/python3.11/site-packages (from torch) (12.3.1.170)\n",
      "Requirement already satisfied: nvidia-nccl-cu12==2.21.5 in /data/miniconda/envs/python=3.9.9/lib/python3.11/site-packages (from torch) (2.21.5)\n",
      "Requirement already satisfied: nvidia-nvtx-cu12==12.4.127 in /data/miniconda/envs/python=3.9.9/lib/python3.11/site-packages (from torch) (12.4.127)\n",
      "Requirement already satisfied: nvidia-nvjitlink-cu12==12.4.127 in /data/miniconda/envs/python=3.9.9/lib/python3.11/site-packages (from torch) (12.4.127)\n",
      "Requirement already satisfied: triton==3.1.0 in /data/miniconda/envs/python=3.9.9/lib/python3.11/site-packages (from torch) (3.1.0)\n",
      "Requirement already satisfied: sympy==1.13.1 in /data/miniconda/envs/python=3.9.9/lib/python3.11/site-packages (from torch) (1.13.1)\n",
      "Requirement already satisfied: mpmath<1.4,>=1.1.0 in /data/miniconda/envs/python=3.9.9/lib/python3.11/site-packages (from sympy==1.13.1->torch) (1.3.0)\n",
      "Requirement already satisfied: MarkupSafe>=2.0 in /data/miniconda/envs/python=3.9.9/lib/python3.11/site-packages (from jinja2->torch) (3.0.2)\n",
      "Using cached torch-2.5.1-cp311-cp311-manylinux1_x86_64.whl (906.5 MB)\n",
      "Installing collected packages: torch\n",
      "Successfully installed torch-2.5.1\n",
      "\u001b[33mWARNING: Running pip as the 'root' user can result in broken permissions and conflicting behaviour with the system package manager, possibly rendering your system unusable.It is recommended to use a virtual environment instead: https://pip.pypa.io/warnings/venv. Use the --root-user-action option if you know what you are doing and want to suppress this warning.\u001b[0m\u001b[33m\n",
      "\u001b[0m"
     ]
    }
   ],
   "source": [
    "!pip install transformers>=4.23.0\n",
    "!pip install torch\n",
    "import torch"
   ]
  },
  {
   "cell_type": "code",
   "execution_count": null,
   "metadata": {},
   "outputs": [],
   "source": [
    "# conda create -n whisper python=3.9.9\n",
    "# conda activate python=3.9.9"
   ]
  },
  {
   "cell_type": "code",
   "execution_count": 1,
   "metadata": {},
   "outputs": [
    {
     "name": "stdout",
     "output_type": "stream",
     "text": [
      "Requirement already satisfied: modelscope in /data/miniconda/envs/python=3.9.9/lib/python3.11/site-packages (1.21.1)\n",
      "Requirement already satisfied: requests>=2.25 in /data/miniconda/envs/python=3.9.9/lib/python3.11/site-packages (from modelscope) (2.32.3)\n",
      "Requirement already satisfied: tqdm>=4.64.0 in /data/miniconda/envs/python=3.9.9/lib/python3.11/site-packages (from modelscope) (4.67.1)\n",
      "Requirement already satisfied: urllib3>=1.26 in /data/miniconda/envs/python=3.9.9/lib/python3.11/site-packages (from modelscope) (2.3.0)\n",
      "Requirement already satisfied: charset-normalizer<4,>=2 in /data/miniconda/envs/python=3.9.9/lib/python3.11/site-packages (from requests>=2.25->modelscope) (3.4.1)\n",
      "Requirement already satisfied: idna<4,>=2.5 in /data/miniconda/envs/python=3.9.9/lib/python3.11/site-packages (from requests>=2.25->modelscope) (3.10)\n",
      "Requirement already satisfied: certifi>=2017.4.17 in /data/miniconda/envs/python=3.9.9/lib/python3.11/site-packages (from requests>=2.25->modelscope) (2024.12.14)\n",
      "\u001b[33mWARNING: Running pip as the 'root' user can result in broken permissions and conflicting behaviour with the system package manager, possibly rendering your system unusable.It is recommended to use a virtual environment instead: https://pip.pypa.io/warnings/venv. Use the --root-user-action option if you know what you are doing and want to suppress this warning.\u001b[0m\u001b[33m\n",
      "\u001b[0mRequirement already satisfied: addict in /data/miniconda/envs/python=3.9.9/lib/python3.11/site-packages (2.4.0)\n",
      "\u001b[33mWARNING: Running pip as the 'root' user can result in broken permissions and conflicting behaviour with the system package manager, possibly rendering your system unusable.It is recommended to use a virtual environment instead: https://pip.pypa.io/warnings/venv. Use the --root-user-action option if you know what you are doing and want to suppress this warning.\u001b[0m\u001b[33m\n",
      "\u001b[0mRequirement already satisfied: simplejson in /data/miniconda/envs/python=3.9.9/lib/python3.11/site-packages (3.19.3)\n",
      "\u001b[33mWARNING: Running pip as the 'root' user can result in broken permissions and conflicting behaviour with the system package manager, possibly rendering your system unusable.It is recommended to use a virtual environment instead: https://pip.pypa.io/warnings/venv. Use the --root-user-action option if you know what you are doing and want to suppress this warning.\u001b[0m\u001b[33m\n",
      "\u001b[0mRequirement already satisfied: sortedcontainers in /data/miniconda/envs/python=3.9.9/lib/python3.11/site-packages (2.4.0)\n",
      "\u001b[33mWARNING: Running pip as the 'root' user can result in broken permissions and conflicting behaviour with the system package manager, possibly rendering your system unusable.It is recommended to use a virtual environment instead: https://pip.pypa.io/warnings/venv. Use the --root-user-action option if you know what you are doing and want to suppress this warning.\u001b[0m\u001b[33m\n",
      "\u001b[0m"
     ]
    },
    {
     "name": "stderr",
     "output_type": "stream",
     "text": [
      "/data/miniconda/envs/python=3.9.9/lib/python3.11/site-packages/tqdm/auto.py:21: TqdmWarning: IProgress not found. Please update jupyter and ipywidgets. See https://ipywidgets.readthedocs.io/en/stable/user_install.html\n",
      "  from .autonotebook import tqdm as notebook_tqdm\n"
     ]
    },
    {
     "name": "stdout",
     "output_type": "stream",
     "text": [
      "Downloading Model to directory: /data/coding/whisper_inference/faster-whisper-medium/hub/pengzhendong/faster-whisper-medium\n"
     ]
    }
   ],
   "source": [
    "!pip install modelscope\n",
    "import modelscope\n",
    "!pip install addict\n",
    "!pip install simplejson\n",
    "!pip install sortedcontainers\n",
    "\n",
    "from modelscope.models import Model\n",
    "\n",
    "from modelscope import snapshot_download\n",
    "model_dir = snapshot_download('pengzhendong/faster-whisper-medium',cache_dir='/data/coding/whisper_inference/faster-whisper-medium')\n",
    "\n",
    "# 默认下载路径：Downloading Model to directory: /root/.cache/modelscope/hub/pengzhendong/faster-whisper-medium\n"
   ]
  },
  {
   "cell_type": "code",
   "execution_count": 13,
   "metadata": {},
   "outputs": [
    {
     "name": "stdout",
     "output_type": "stream",
     "text": [
      "当前工作路径是: /data/coding/whisper_inference\n"
     ]
    }
   ],
   "source": [
    "import os\n",
    "\n",
    "# 获取并打印当前工作目录\n",
    "current_directory = os.getcwd()\n",
    "print(\"当前工作路径是:\", current_directory)\n",
    "\n",
    "# 将此路径替换为你想要切换到的实际路径\n",
    "# new_directory = '/data/coding/whisper_inference' \n",
    "# os.chdir(new_directory)"
   ]
  },
  {
   "cell_type": "code",
   "execution_count": 2,
   "metadata": {},
   "outputs": [
    {
     "name": "stdout",
     "output_type": "stream",
     "text": [
      "Requirement already satisfied: faster_whisper in /data/miniconda/envs/python=3.9.9/lib/python3.11/site-packages (1.1.1)\n",
      "Requirement already satisfied: ctranslate2<5,>=4.0 in /data/miniconda/envs/python=3.9.9/lib/python3.11/site-packages (from faster_whisper) (4.5.0)\n",
      "Requirement already satisfied: huggingface-hub>=0.13 in /data/miniconda/envs/python=3.9.9/lib/python3.11/site-packages (from faster_whisper) (0.27.0)\n",
      "Requirement already satisfied: tokenizers<1,>=0.13 in /data/miniconda/envs/python=3.9.9/lib/python3.11/site-packages (from faster_whisper) (0.21.0)\n",
      "Requirement already satisfied: onnxruntime<2,>=1.14 in /data/miniconda/envs/python=3.9.9/lib/python3.11/site-packages (from faster_whisper) (1.20.1)\n",
      "Requirement already satisfied: av>=11 in /data/miniconda/envs/python=3.9.9/lib/python3.11/site-packages (from faster_whisper) (14.0.1)\n",
      "Requirement already satisfied: tqdm in /data/miniconda/envs/python=3.9.9/lib/python3.11/site-packages (from faster_whisper) (4.67.1)\n",
      "Requirement already satisfied: setuptools in /data/miniconda/envs/python=3.9.9/lib/python3.11/site-packages (from ctranslate2<5,>=4.0->faster_whisper) (75.1.0)\n",
      "Requirement already satisfied: numpy in /data/miniconda/envs/python=3.9.9/lib/python3.11/site-packages (from ctranslate2<5,>=4.0->faster_whisper) (2.0.2)\n",
      "Requirement already satisfied: pyyaml<7,>=5.3 in /data/miniconda/envs/python=3.9.9/lib/python3.11/site-packages (from ctranslate2<5,>=4.0->faster_whisper) (6.0.2)\n",
      "Requirement already satisfied: filelock in /data/miniconda/envs/python=3.9.9/lib/python3.11/site-packages (from huggingface-hub>=0.13->faster_whisper) (3.16.1)\n",
      "Requirement already satisfied: fsspec>=2023.5.0 in /data/miniconda/envs/python=3.9.9/lib/python3.11/site-packages (from huggingface-hub>=0.13->faster_whisper) (2024.12.0)\n",
      "Requirement already satisfied: packaging>=20.9 in /data/miniconda/envs/python=3.9.9/lib/python3.11/site-packages (from huggingface-hub>=0.13->faster_whisper) (24.2)\n",
      "Requirement already satisfied: requests in /data/miniconda/envs/python=3.9.9/lib/python3.11/site-packages (from huggingface-hub>=0.13->faster_whisper) (2.32.3)\n",
      "Requirement already satisfied: typing-extensions>=3.7.4.3 in /data/miniconda/envs/python=3.9.9/lib/python3.11/site-packages (from huggingface-hub>=0.13->faster_whisper) (4.12.2)\n",
      "Requirement already satisfied: coloredlogs in /data/miniconda/envs/python=3.9.9/lib/python3.11/site-packages (from onnxruntime<2,>=1.14->faster_whisper) (15.0.1)\n",
      "Requirement already satisfied: flatbuffers in /data/miniconda/envs/python=3.9.9/lib/python3.11/site-packages (from onnxruntime<2,>=1.14->faster_whisper) (24.12.23)\n",
      "Requirement already satisfied: protobuf in /data/miniconda/envs/python=3.9.9/lib/python3.11/site-packages (from onnxruntime<2,>=1.14->faster_whisper) (5.29.2)\n",
      "Requirement already satisfied: sympy in /data/miniconda/envs/python=3.9.9/lib/python3.11/site-packages (from onnxruntime<2,>=1.14->faster_whisper) (1.13.1)\n",
      "Requirement already satisfied: humanfriendly>=9.1 in /data/miniconda/envs/python=3.9.9/lib/python3.11/site-packages (from coloredlogs->onnxruntime<2,>=1.14->faster_whisper) (10.0)\n",
      "Requirement already satisfied: charset-normalizer<4,>=2 in /data/miniconda/envs/python=3.9.9/lib/python3.11/site-packages (from requests->huggingface-hub>=0.13->faster_whisper) (3.4.1)\n",
      "Requirement already satisfied: idna<4,>=2.5 in /data/miniconda/envs/python=3.9.9/lib/python3.11/site-packages (from requests->huggingface-hub>=0.13->faster_whisper) (3.10)\n",
      "Requirement already satisfied: urllib3<3,>=1.21.1 in /data/miniconda/envs/python=3.9.9/lib/python3.11/site-packages (from requests->huggingface-hub>=0.13->faster_whisper) (2.3.0)\n",
      "Requirement already satisfied: certifi>=2017.4.17 in /data/miniconda/envs/python=3.9.9/lib/python3.11/site-packages (from requests->huggingface-hub>=0.13->faster_whisper) (2024.12.14)\n",
      "Requirement already satisfied: mpmath<1.4,>=1.1.0 in /data/miniconda/envs/python=3.9.9/lib/python3.11/site-packages (from sympy->onnxruntime<2,>=1.14->faster_whisper) (1.3.0)\n",
      "\u001b[33mWARNING: Running pip as the 'root' user can result in broken permissions and conflicting behaviour with the system package manager, possibly rendering your system unusable.It is recommended to use a virtual environment instead: https://pip.pypa.io/warnings/venv. Use the --root-user-action option if you know what you are doing and want to suppress this warning.\u001b[0m\u001b[33m\n",
      "\u001b[0m"
     ]
    }
   ],
   "source": [
    "!pip install faster_whisper\n",
    "from faster_whisper import WhisperModel\n",
    "\n",
    "model = WhisperModel(\"faster-whisper-medium/pengzhendong/faster-whisper-medium\",local_files_only=True, device=\"cuda\")\n"
   ]
  },
  {
   "cell_type": "code",
   "execution_count": 4,
   "metadata": {},
   "outputs": [
    {
     "name": "stdout",
     "output_type": "stream",
     "text": [
      "<faster_whisper.transcribe.WhisperModel object at 0x7fd98a5e7a10>\n",
      "\u001b[33mWARNING: Running pip as the 'root' user can result in broken permissions and conflicting behaviour with the system package manager, possibly rendering your system unusable.It is recommended to use a virtual environment instead: https://pip.pypa.io/warnings/venv. Use the --root-user-action option if you know what you are doing and want to suppress this warning.\u001b[0m\u001b[33m\n",
      "\u001b[0m"
     ]
    },
    {
     "data": {
      "text/plain": [
       "'\\n后续按照这里的指导操作：\\nhttps://www.modelscope.cn/models/pengzhendong/faster-whisper-medium/summary\\nhttps://opennmt.net/CTranslate2/guides/transformers.html#whisper\\nhttps://github.com/SYSTRAN/faster-whisper\\n'"
      ]
     },
     "execution_count": 4,
     "metadata": {},
     "output_type": "execute_result"
    }
   ],
   "source": [
    "print(model)\n",
    "!pip install transformers>=4.23.0\n",
    "'''\n",
    "后续按照这里的指导操作：\n",
    "https://www.modelscope.cn/models/pengzhendong/faster-whisper-medium/summary\n",
    "https://opennmt.net/CTranslate2/guides/transformers.html#whisper\n",
    "https://github.com/SYSTRAN/faster-whisper\n",
    "'''"
   ]
  },
  {
   "cell_type": "code",
   "execution_count": 23,
   "metadata": {},
   "outputs": [],
   "source": [
    "# demo:音频转文字\n",
    "\n",
    "segments, info = model.transcribe(\"/data/coding/whisper_inference/岁不寒.mp4\")\n",
    "\n",
    "with open(\"/data/coding/whisper_inference/t.txt\",\"a+\") as f:\n",
    "    f.write(\"----岁不寒---- \")  # 自带文件关闭功能，不需要再写f.close()\n",
    "    for segment in segments:\n",
    "        # print(\"[%.2fs -> %.2fs] %s\" % (segment.start, segment.end, segment.text))\n",
    "        s,e,t=segment.start, segment.end, segment.text\n",
    "        f.write(\"\\n[%.2fs -> %.2fs] %s\" % (s,e,t))"
   ]
  },
  {
   "cell_type": "markdown",
   "metadata": {},
   "source": []
  }
 ],
 "metadata": {
  "kernelspec": {
   "display_name": "Python 3",
   "language": "python",
   "name": "python3"
  },
  "language_info": {
   "codemirror_mode": {
    "name": "ipython",
    "version": 3
   },
   "file_extension": ".py",
   "mimetype": "text/x-python",
   "name": "python",
   "nbconvert_exporter": "python",
   "pygments_lexer": "ipython3",
   "version": "3.11.11"
  }
 },
 "nbformat": 4,
 "nbformat_minor": 2
}
