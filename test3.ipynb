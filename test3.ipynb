{
 "cells": [
  {
   "cell_type": "markdown",
   "metadata": {},
   "source": [
    "# https://github.com/openai/whisper/tree/main \n",
    "# 这里是直接用whisper"
   ]
  },
  {
   "cell_type": "code",
   "execution_count": null,
   "metadata": {},
   "outputs": [],
   "source": [
    "# conda create -n whisper python=3.9.9\n",
    "# conda activate python=3.9.9"
   ]
  },
  {
   "cell_type": "code",
   "execution_count": null,
   "metadata": {},
   "outputs": [],
   "source": [
    "\n",
    "  pip install -U openai-whisper\n",
    "  apt install ffmpeg\n",
    "  pip install tiktoken\n",
    "  pip install setuptools-rust"
   ]
  }
 ],
 "metadata": {
  "language_info": {
   "name": "python"
  }
 },
 "nbformat": 4,
 "nbformat_minor": 2
}
